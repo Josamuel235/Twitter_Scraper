{
 "cells": [
  {
   "cell_type": "code",
   "execution_count": 1,
   "metadata": {},
   "outputs": [],
   "source": [
    "from bs4 import BeautifulSoup\n",
    "import pandas as pd\n",
    "import numpy as np\n",
    "import requests\n",
    "from selenium import webdriver\n",
    "from webdriver_manager.chrome import ChromeDriverManager\n",
    "from selenium.webdriver.chrome.service import Service\n",
    "from selenium.webdriver.support import expected_conditions as EC\n",
    "from selenium.webdriver.support.ui import WebDriverWait\n",
    "from selenium.common.exceptions import WebDriverException\n",
    "from selenium.webdriver.common.by import By\n",
    "import time"
   ]
  },
  {
   "cell_type": "code",
   "execution_count": 2,
   "metadata": {},
   "outputs": [
    {
     "name": "stderr",
     "output_type": "stream",
     "text": [
      "[WDM] - Downloading: 100%|██████████| 6.79M/6.79M [00:02<00:00, 3.19MB/s]\n"
     ]
    }
   ],
   "source": [
    "url = \"https://twitter.com/RealSkipBayless/status/1618744092942536704?cxt=HHwWgMDQoaLL9_YsAAAA\"\n",
    "web =  webdriver.Chrome(service=Service(ChromeDriverManager().install()))\n",
    "web.get(\"https://twitter.com/RealSkipBayless/status/1619007692823212036?cxt=HHwWiMDRtea67_csAAAA\")"
   ]
  },
  {
   "cell_type": "code",
   "execution_count": 3,
   "metadata": {},
   "outputs": [
    {
     "name": "stdout",
     "output_type": "stream",
     "text": [
      "loaded\n"
     ]
    }
   ],
   "source": [
    "loaded = \"\"\n",
    "while loaded != \"complete\":\n",
    "    loaded = web.execute_script(\"return document.readyState\")\n",
    "    time.sleep(3)\n",
    "print('loaded')"
   ]
  },
  {
   "cell_type": "code",
   "execution_count": 4,
   "metadata": {},
   "outputs": [],
   "source": [
    "try:\n",
    "    WebDriverWait(web, 10).until(EC.presence_of_element_located(\n",
    "        (By.XPATH, \"//div[@data-testid = 'tweetText']\")))\n",
    "except Exception:\n",
    "    print('fail')"
   ]
  },
  {
   "cell_type": "code",
   "execution_count": 9,
   "metadata": {},
   "outputs": [
    {
     "name": "stdout",
     "output_type": "stream",
     "text": [
      "getting tweets\n"
     ]
    },
    {
     "ename": "StaleElementReferenceException",
     "evalue": "Message: stale element reference: element is not attached to the page document\n  (Session info: chrome=109.0.5414.120)\nStacktrace:\nBacktrace:\n\t(No symbol) [0x011A6643]\n\t(No symbol) [0x0113BE21]\n\t(No symbol) [0x0103DA9D]\n\t(No symbol) [0x010409E4]\n\t(No symbol) [0x010408AD]\n\t(No symbol) [0x01040B30]\n\t(No symbol) [0x0106C7C0]\n\t(No symbol) [0x0108FD7C]\n\t(No symbol) [0x0106641F]\n\t(No symbol) [0x010900D4]\n\t(No symbol) [0x010A6B09]\n\t(No symbol) [0x0108FB76]\n\t(No symbol) [0x010649C1]\n\t(No symbol) [0x01065E5D]\n\tGetHandleVerifier [0x0141A142+2497106]\n\tGetHandleVerifier [0x014485D3+2686691]\n\tGetHandleVerifier [0x0144BB9C+2700460]\n\tGetHandleVerifier [0x01253B10+635936]\n\t(No symbol) [0x01144A1F]\n\t(No symbol) [0x0114A418]\n\t(No symbol) [0x0114A505]\n\t(No symbol) [0x0115508B]\n\tBaseThreadInitThunk [0x773300F9+25]\n\tRtlGetAppContainerNamedObjectPath [0x778B7BBE+286]\n\tRtlGetAppContainerNamedObjectPath [0x778B7B8E+238]\n",
     "output_type": "error",
     "traceback": [
      "\u001b[1;31m---------------------------------------------------------------------------\u001b[0m",
      "\u001b[1;31mStaleElementReferenceException\u001b[0m            Traceback (most recent call last)",
      "Cell \u001b[1;32mIn[9], line 40\u001b[0m\n\u001b[0;32m     38\u001b[0m     comment\u001b[39m.\u001b[39mappend(i\u001b[39m.\u001b[39mtext)\n\u001b[0;32m     39\u001b[0m \u001b[39melse\u001b[39;00m:\n\u001b[1;32m---> 40\u001b[0m     replies\u001b[39m.\u001b[39mappend(i\u001b[39m.\u001b[39;49mtext)\n",
      "File \u001b[1;32mC:\\MyJoseph\\Projects\\Scraper\\lib\\site-packages\\selenium\\webdriver\\remote\\webelement.py:89\u001b[0m, in \u001b[0;36mWebElement.text\u001b[1;34m(self)\u001b[0m\n\u001b[0;32m     86\u001b[0m \u001b[39m@property\u001b[39m\n\u001b[0;32m     87\u001b[0m \u001b[39mdef\u001b[39;00m \u001b[39mtext\u001b[39m(\u001b[39mself\u001b[39m) \u001b[39m-\u001b[39m\u001b[39m>\u001b[39m \u001b[39mstr\u001b[39m:\n\u001b[0;32m     88\u001b[0m \u001b[39m    \u001b[39m\u001b[39m\"\"\"The text of the element.\"\"\"\u001b[39;00m\n\u001b[1;32m---> 89\u001b[0m     \u001b[39mreturn\u001b[39;00m \u001b[39mself\u001b[39;49m\u001b[39m.\u001b[39;49m_execute(Command\u001b[39m.\u001b[39;49mGET_ELEMENT_TEXT)[\u001b[39m\"\u001b[39m\u001b[39mvalue\u001b[39m\u001b[39m\"\u001b[39m]\n",
      "File \u001b[1;32mC:\\MyJoseph\\Projects\\Scraper\\lib\\site-packages\\selenium\\webdriver\\remote\\webelement.py:403\u001b[0m, in \u001b[0;36mWebElement._execute\u001b[1;34m(self, command, params)\u001b[0m\n\u001b[0;32m    401\u001b[0m     params \u001b[39m=\u001b[39m {}\n\u001b[0;32m    402\u001b[0m params[\u001b[39m\"\u001b[39m\u001b[39mid\u001b[39m\u001b[39m\"\u001b[39m] \u001b[39m=\u001b[39m \u001b[39mself\u001b[39m\u001b[39m.\u001b[39m_id\n\u001b[1;32m--> 403\u001b[0m \u001b[39mreturn\u001b[39;00m \u001b[39mself\u001b[39;49m\u001b[39m.\u001b[39;49m_parent\u001b[39m.\u001b[39;49mexecute(command, params)\n",
      "File \u001b[1;32mC:\\MyJoseph\\Projects\\Scraper\\lib\\site-packages\\selenium\\webdriver\\remote\\webdriver.py:440\u001b[0m, in \u001b[0;36mWebDriver.execute\u001b[1;34m(self, driver_command, params)\u001b[0m\n\u001b[0;32m    438\u001b[0m response \u001b[39m=\u001b[39m \u001b[39mself\u001b[39m\u001b[39m.\u001b[39mcommand_executor\u001b[39m.\u001b[39mexecute(driver_command, params)\n\u001b[0;32m    439\u001b[0m \u001b[39mif\u001b[39;00m response:\n\u001b[1;32m--> 440\u001b[0m     \u001b[39mself\u001b[39;49m\u001b[39m.\u001b[39;49merror_handler\u001b[39m.\u001b[39;49mcheck_response(response)\n\u001b[0;32m    441\u001b[0m     response[\u001b[39m\"\u001b[39m\u001b[39mvalue\u001b[39m\u001b[39m\"\u001b[39m] \u001b[39m=\u001b[39m \u001b[39mself\u001b[39m\u001b[39m.\u001b[39m_unwrap_value(response\u001b[39m.\u001b[39mget(\u001b[39m\"\u001b[39m\u001b[39mvalue\u001b[39m\u001b[39m\"\u001b[39m, \u001b[39mNone\u001b[39;00m))\n\u001b[0;32m    442\u001b[0m     \u001b[39mreturn\u001b[39;00m response\n",
      "File \u001b[1;32mC:\\MyJoseph\\Projects\\Scraper\\lib\\site-packages\\selenium\\webdriver\\remote\\errorhandler.py:245\u001b[0m, in \u001b[0;36mErrorHandler.check_response\u001b[1;34m(self, response)\u001b[0m\n\u001b[0;32m    243\u001b[0m         alert_text \u001b[39m=\u001b[39m value[\u001b[39m\"\u001b[39m\u001b[39malert\u001b[39m\u001b[39m\"\u001b[39m]\u001b[39m.\u001b[39mget(\u001b[39m\"\u001b[39m\u001b[39mtext\u001b[39m\u001b[39m\"\u001b[39m)\n\u001b[0;32m    244\u001b[0m     \u001b[39mraise\u001b[39;00m exception_class(message, screen, stacktrace, alert_text)  \u001b[39m# type: ignore[call-arg]  # mypy is not smart enough here\u001b[39;00m\n\u001b[1;32m--> 245\u001b[0m \u001b[39mraise\u001b[39;00m exception_class(message, screen, stacktrace)\n",
      "\u001b[1;31mStaleElementReferenceException\u001b[0m: Message: stale element reference: element is not attached to the page document\n  (Session info: chrome=109.0.5414.120)\nStacktrace:\nBacktrace:\n\t(No symbol) [0x011A6643]\n\t(No symbol) [0x0113BE21]\n\t(No symbol) [0x0103DA9D]\n\t(No symbol) [0x010409E4]\n\t(No symbol) [0x010408AD]\n\t(No symbol) [0x01040B30]\n\t(No symbol) [0x0106C7C0]\n\t(No symbol) [0x0108FD7C]\n\t(No symbol) [0x0106641F]\n\t(No symbol) [0x010900D4]\n\t(No symbol) [0x010A6B09]\n\t(No symbol) [0x0108FB76]\n\t(No symbol) [0x010649C1]\n\t(No symbol) [0x01065E5D]\n\tGetHandleVerifier [0x0141A142+2497106]\n\tGetHandleVerifier [0x014485D3+2686691]\n\tGetHandleVerifier [0x0144BB9C+2700460]\n\tGetHandleVerifier [0x01253B10+635936]\n\t(No symbol) [0x01144A1F]\n\t(No symbol) [0x0114A418]\n\t(No symbol) [0x0114A505]\n\t(No symbol) [0x0115508B]\n\tBaseThreadInitThunk [0x773300F9+25]\n\tRtlGetAppContainerNamedObjectPath [0x778B7BBE+286]\n\tRtlGetAppContainerNamedObjectPath [0x778B7B8E+238]\n"
     ]
    }
   ],
   "source": [
    "n = 100\n",
    "num = 0\n",
    "\n",
    "main = True\n",
    "more_replies = True\n",
    "pop_up = True\n",
    "\n",
    "comment = []\n",
    "replies= []\n",
    "\n",
    "while num < n:\n",
    "    try:\n",
    "        thread = web.find_element(By.XPATH, \"//div[@class = 'css-1dbjc4n r-16y2uox r-1wbh5a2 r-1777fci']\")\n",
    "        thread.click()\n",
    "        num+=3\n",
    "        more_replies = True\n",
    "    except:\n",
    "        if more_replies:\n",
    "            try:\n",
    "                WebDriverWait(web, 5).until(EC.element_to_be_clickable(\n",
    "                    (By.XPATH, \"//div[@class = 'css-1dbjc4n r-16y2uox r-1wbh5a2 r-1777fci']\")))\n",
    "            except Exception:\n",
    "                if pop_up:\n",
    "                    web.find_element(By.TAG_NAME, \"svg\").click()\n",
    "                    time.sleep(1)\n",
    "                    pop_up = False\n",
    "                more_replies = False\n",
    "        else:\n",
    "            break\n",
    "\n",
    "\n",
    "print('getting tweets')\n",
    "tweets = web.find_elements(By.XPATH, \"//div[@data-testid = 'tweetText']\")\n",
    "\n",
    "for i in tweets:\n",
    "    if main == True:\n",
    "        main = False\n",
    "        comment.append(i.text)\n",
    "    else:\n",
    "        replies.append(i.text)"
   ]
  },
  {
   "cell_type": "code",
   "execution_count": 6,
   "metadata": {},
   "outputs": [
    {
     "data": {
      "text/plain": [
       "<selenium.webdriver.remote.webelement.WebElement (session=\"9d7752853a29da151d1f3bda27578af2\", element=\"750942e6-ac65-46eb-b8b9-2686bb46571d\")>"
      ]
     },
     "execution_count": 6,
     "metadata": {},
     "output_type": "execute_result"
    }
   ],
   "source": [
    "WebDriverWait(web, 5).until(EC.element_to_be_clickable(\n",
    "    (By.XPATH, \"//div[@class = 'css-1dbjc4n r-16y2uox r-1wbh5a2 r-1777fci']\")))"
   ]
  },
  {
   "cell_type": "code",
   "execution_count": 7,
   "metadata": {},
   "outputs": [],
   "source": [
    "thread = web.find_element(By.XPATH, \"//div[@class = 'css-1dbjc4n r-16y2uox r-1wbh5a2 r-1777fci']\")"
   ]
  },
  {
   "cell_type": "code",
   "execution_count": 8,
   "metadata": {},
   "outputs": [],
   "source": [
    "WebDriverWait(web, 5).until(EC.element_to_be_clickable(\n",
    "    (By.XPATH, \"//div[@class = 'css-1dbjc4n r-16y2uox r-1wbh5a2 r-1777fci']\"))).click()"
   ]
  },
  {
   "cell_type": "code",
   "execution_count": null,
   "metadata": {},
   "outputs": [],
   "source": []
  }
 ],
 "metadata": {
  "kernelspec": {
   "display_name": "twitterscrape",
   "language": "python",
   "name": "twitterscrape"
  },
  "language_info": {
   "codemirror_mode": {
    "name": "ipython",
    "version": 3
   },
   "file_extension": ".py",
   "mimetype": "text/x-python",
   "name": "python",
   "nbconvert_exporter": "python",
   "pygments_lexer": "ipython3",
   "version": "3.9.6"
  },
  "orig_nbformat": 4
 },
 "nbformat": 4,
 "nbformat_minor": 2
}
