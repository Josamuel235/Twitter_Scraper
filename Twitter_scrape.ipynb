{
 "cells": [
  {
   "cell_type": "code",
   "execution_count": 9,
   "metadata": {},
   "outputs": [],
   "source": [
    "from bs4 import BeautifulSoup\n",
    "import pandas as pd\n",
    "import numpy as np\n",
    "import requests\n",
    "from selenium import webdriver\n",
    "from webdriver_manager.chrome import ChromeDriverManager\n",
    "from selenium.webdriver.chrome.service import Service\n",
    "from selenium.webdriver.support import expected_conditions as EC\n",
    "from selenium.webdriver.support.ui import WebDriverWait\n",
    "from selenium.common.exceptions import WebDriverException\n",
    "from selenium.webdriver.common.by import By\n",
    "import time"
   ]
  },
  {
   "cell_type": "code",
   "execution_count": 10,
   "metadata": {},
   "outputs": [],
   "source": [
    "url = \"https://twitter.com/RealSkipBayless/status/1618744092942536704?cxt=HHwWgMDQoaLL9_YsAAAA\"\n",
    "web =  webdriver.Chrome(service=Service(ChromeDriverManager().install()))\n",
    "web.get(\"https://twitter.com/RealSkipBayless/status/1619007692823212036?cxt=HHwWiMDRtea67_csAAAA\")"
   ]
  },
  {
   "cell_type": "code",
   "execution_count": 11,
   "metadata": {},
   "outputs": [
    {
     "name": "stdout",
     "output_type": "stream",
     "text": [
      "loaded\n"
     ]
    }
   ],
   "source": [
    "loaded = \"\"\n",
    "while loaded != \"complete\":\n",
    "    loaded = web.execute_script(\"return document.readyState\")\n",
    "    time.sleep(3)\n",
    "print('loaded')"
   ]
  },
  {
   "cell_type": "code",
   "execution_count": 12,
   "metadata": {},
   "outputs": [],
   "source": [
    "try:\n",
    "    WebDriverWait(web, 10).until(EC.presence_of_element_located(\n",
    "        (By.XPATH, \"//div[@data-testid = 'tweetText']\")))\n",
    "except Exception:\n",
    "    print('fail')"
   ]
  },
  {
   "cell_type": "code",
   "execution_count": 13,
   "metadata": {},
   "outputs": [
    {
     "ename": "",
     "evalue": "",
     "output_type": "error",
     "traceback": [
      "\u001b[1;31mCanceled future for execute_request message before replies were done"
     ]
    },
    {
     "ename": "",
     "evalue": "",
     "output_type": "error",
     "traceback": [
      "\u001b[1;31mThe Kernel crashed while executing code in the the current cell or a previous cell. Please review the code in the cell(s) to identify a possible cause of the failure. Click <a href='https://aka.ms/vscodeJupyterKernelCrash'>here</a> for more info. View Jupyter <a href='command:jupyter.viewOutput'>log</a> for further details."
     ]
    }
   ],
   "source": [
    "n = 100\n",
    "num = 0\n",
    "\n",
    "main = True\n",
    "more_replies = True\n",
    "pop_up = True\n",
    "\n",
    "comment = []\n",
    "replies= []\n",
    "\n",
    "while num < n:\n",
    "    try:\n",
    "        thread = web.find_element(By.XPATH, \"//div[@class = 'css-1dbjc4n r-16y2uox r-1wbh5a2 r-1777fci']\")\n",
    "        thread.click()\n",
    "        num+=3\n",
    "        more_replies = True\n",
    "    except:\n",
    "        if more_replies:\n",
    "            try:\n",
    "                WebDriverWait(web, 5).until(EC.element_to_be_clickable(\n",
    "                    (By.XPATH, \"//div[@class = 'css-1dbjc4n r-16y2uox r-1wbh5a2 r-1777fci']\")))\n",
    "            except Exception:\n",
    "                if pop_up:\n",
    "                    web.find_element(By.TAG_NAME, \"svg\").click()\n",
    "                    time.sleep(1)\n",
    "                    pop_up = False\n",
    "                more_replies = False\n",
    "        else:\n",
    "            break\n"
   ]
  },
  {
   "cell_type": "code",
   "execution_count": null,
   "metadata": {},
   "outputs": [],
   "source": []
  },
  {
   "cell_type": "code",
   "execution_count": null,
   "metadata": {},
   "outputs": [],
   "source": [
    "print('getting tweets')\n",
    "tweets = web.find_elements(By.XPATH, \"//div[@data-testid = 'tweetText']\")\n",
    "\n",
    "for i in tweets:\n",
    "    if main == True:\n",
    "        main = False\n",
    "        comment.append(i.text)\n",
    "    else:\n",
    "        replies.append(i.text)"
   ]
  }
 ],
 "metadata": {
  "kernelspec": {
   "display_name": "twitterscrape",
   "language": "python",
   "name": "twitterscrape"
  },
  "language_info": {
   "codemirror_mode": {
    "name": "ipython",
    "version": 3
   },
   "file_extension": ".py",
   "mimetype": "text/x-python",
   "name": "python",
   "nbconvert_exporter": "python",
   "pygments_lexer": "ipython3",
   "version": "3.9.6"
  },
  "orig_nbformat": 4
 },
 "nbformat": 4,
 "nbformat_minor": 2
}
